{
 "cells": [
  {
   "cell_type": "code",
   "execution_count": 1,
   "metadata": {},
   "outputs": [],
   "source": [
    "import os\n",
    "from dotenv import load_dotenv\n",
    "\n",
    "load_dotenv()\n",
    "\n",
    "llm_config = {\"model\": \"gpt-4\",\n",
    "        \"api_key\": os.environ.get('AZURE_OPENAI_API_KEY'),\n",
    "        \"base_url\": \"https://softtech-openai-ailab.openai.azure.com/\",\n",
    "        \"api_type\": \"azure\",\n",
    "        \"api_version\": \"2024-02-01\"}"
   ]
  },
  {
   "cell_type": "code",
   "execution_count": 2,
   "metadata": {},
   "outputs": [],
   "source": [
    "task = '''\n",
    "        Write a concise but engaging blogpost about\n",
    "       LLM Agents. Make sure the blogpost is\n",
    "       within 100 words.\n",
    "       '''\n"
   ]
  },
  {
   "cell_type": "code",
   "execution_count": 3,
   "metadata": {},
   "outputs": [],
   "source": [
    "import autogen\n",
    "\n",
    "writer = autogen.AssistantAgent(\n",
    "    name=\"Writer\",\n",
    "    system_message=\"You are a writer. You write engaging and concise \" \n",
    "        \"blogpost (with title) on given topics. You must polish your \"\n",
    "        \"writing based on the feedback you receive and give a refined \"\n",
    "        \"version. Only return your final work without additional comments.\",\n",
    "    llm_config=llm_config,\n",
    ")"
   ]
  },
  {
   "cell_type": "code",
   "execution_count": 4,
   "metadata": {},
   "outputs": [
    {
     "name": "stdout",
     "output_type": "stream",
     "text": [
      "\u001b[33mCritic\u001b[0m (to Writer):\n",
      "\n",
      "\n",
      "        Write a concise but engaging blogpost about\n",
      "       LLM Agents. Make sure the blogpost is\n",
      "       within 100 words.\n",
      "       \n",
      "\n",
      "--------------------------------------------------------------------------------\n"
     ]
    },
    {
     "name": "stdout",
     "output_type": "stream",
     "text": [
      "\u001b[33mWriter\u001b[0m (to Critic):\n",
      "\n",
      "\"Decoding LLM Agents: A Brief Insight\"\n",
      "\n",
      "In the diverse, intricate legal sector, LLM agents act as critical navigators, guiding students toward their Master of Law (LLM) aspirations. These agents provide crucial insights into the competitive LLM landscape, helping students decide the best LLM programs for their career objectives. They mentor students through intricate application processes, freeing them from overwhelming paperwork and deadlines. Moreover, they ensure students stay focused on their purpose and goal - pursuing an LLM degree to amplify their career in law. An LLM agent is not just an advisor but a conduit to a successful legal career. Their role is indispensable in one's law journey.\n",
      "\n",
      "--------------------------------------------------------------------------------\n",
      "\u001b[33mCritic\u001b[0m (to Writer):\n",
      "\n",
      "Your blogpost titled \"Decoding LLM Agents: A Brief Insight\" provides the reader with a clear understanding of the topic. The choice of words is professional and articulate. \n",
      "\n",
      "However, the blogpost exceeds the limit of 100 words. It may benefit from trimming down some details and sticking to the most essential points to achieve brevity. For example, you can combine the roles and benefits of LLM Agents into one sentence.\n",
      "\n",
      "Here is a suggestion:\n",
      "\n",
      "\"In the complex legal sector, LLM agents are indispensable, guiding students towards their Master of Law (LLM) aspirations. They offer insights into the competitive LLM landscape, mentor students through intricate application processes, and keep them focused on their career objectives.\"\n",
      "\n",
      "Remember that maintaining the brevity and conciseness in blog posts is key to keep the reader engaged and get your point across effectively. In addition to this, you may want to consider infusing a bit more personality or storytelling into your blogpost to keep it engaging since blogs tend to be more informal.\n",
      "\n",
      "\n",
      "--------------------------------------------------------------------------------\n"
     ]
    }
   ],
   "source": [
    "critic = autogen.AssistantAgent(\n",
    "    name=\"Critic\",\n",
    "    is_termination_msg=lambda x: x.get(\"content\", \"\").find(\"TERMINATE\") >= 0,\n",
    "    llm_config=llm_config,\n",
    "    system_message=\"You are a critic. You review the work of \"\n",
    "                \"the writer and provide constructive \"\n",
    "                \"feedback to help improve the quality of the content.\",\n",
    ")\n",
    "\n",
    "res = critic.initiate_chat(\n",
    "    recipient=writer,\n",
    "    message=task,\n",
    "    max_turns=2,\n",
    "    summary_method=\"last_msg\"\n",
    ")"
   ]
  },
  {
   "cell_type": "code",
   "execution_count": null,
   "metadata": {},
   "outputs": [],
   "source": []
  }
 ],
 "metadata": {
  "kernelspec": {
   "display_name": "agent",
   "language": "python",
   "name": "python3"
  },
  "language_info": {
   "codemirror_mode": {
    "name": "ipython",
    "version": 3
   },
   "file_extension": ".py",
   "mimetype": "text/x-python",
   "name": "python",
   "nbconvert_exporter": "python",
   "pygments_lexer": "ipython3",
   "version": "3.10.14"
  }
 },
 "nbformat": 4,
 "nbformat_minor": 2
}
